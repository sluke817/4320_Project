{
 "cells": [
  {
   "cell_type": "code",
   "execution_count": 3,
   "metadata": {},
   "outputs": [],
   "source": [
    "import requests\n",
    "import json"
   ]
  },
  {
   "cell_type": "code",
   "execution_count": 14,
   "metadata": {},
   "outputs": [
    {
     "data": {
      "text/plain": [
       "<Response [200]>"
      ]
     },
     "execution_count": 14,
     "metadata": {},
     "output_type": "execute_result"
    }
   ],
   "source": [
    "# Post Request\n",
    "\n",
    "record = {\n",
    "    'username': 'kraken',\n",
    "    'password': 'password',\n",
    "    'fname': 'Kraken',\n",
    "    'lname': 'Krakenson',\n",
    "    'email': 'somedudenamedkraken@fakeemail.com',\n",
    "    'cell_phone': '123-456-7890',\n",
    "    'hours_available': '5',\n",
    "    'postal_address': '12345 Main Street, Columbia, MO 65201'\n",
    "}\n",
    "\n",
    "url = 'https://x50060w167.execute-api.us-east-2.amazonaws.com/prod/add-edit'\n",
    "response = requests.post(url, data=json.dumps(record))\n",
    "# response = requests.post(url, data=json.dumps(record), headers={'Content-Type': 'application/json','x-api-key': key})\n",
    "response"
   ]
  },
  {
   "cell_type": "code",
   "execution_count": 8,
   "metadata": {},
   "outputs": [
    {
     "data": {
      "text/plain": [
       "<Response [200]>"
      ]
     },
     "execution_count": 8,
     "metadata": {},
     "output_type": "execute_result"
    }
   ],
   "source": [
    "url = 'https://x50060w167.execute-api.us-east-2.amazonaws.com/prod/get-user-info/kraken'\n",
    "response = requests.get(url)\n",
    "response"
   ]
  },
  {
   "cell_type": "code",
   "execution_count": 9,
   "metadata": {},
   "outputs": [
    {
     "data": {
      "text/plain": [
       "'[{\"status\": \"\", \"description\": \"\", \"metadata\": {}}, [{\"cell_phone\": \"123-456-7890\", \"password\": \"password\", \"hours_available\": \"5\", \"fname\": \"Kraken\", \"postal_address\": \"12345 Main Street, Columbia, MO 65201\", \"email\": \"somedudenamedkraken@fakeemail.com\", \"lname\": \"Krakenson\", \"name\": \"kraken\"}]]'"
      ]
     },
     "execution_count": 9,
     "metadata": {},
     "output_type": "execute_result"
    }
   ],
   "source": [
    "response.text"
   ]
  }
 ],
 "metadata": {
  "kernelspec": {
   "display_name": "Python 3",
   "language": "python",
   "name": "python3"
  },
  "language_info": {
   "codemirror_mode": {
    "name": "ipython",
    "version": 3
   },
   "file_extension": ".py",
   "mimetype": "text/x-python",
   "name": "python",
   "nbconvert_exporter": "python",
   "pygments_lexer": "ipython3",
   "version": "3.8.9"
  },
  "orig_nbformat": 4,
  "vscode": {
   "interpreter": {
    "hash": "31f2aee4e71d21fbe5cf8b01ff0e069b9275f58929596ceb00d14d90e3e16cd6"
   }
  }
 },
 "nbformat": 4,
 "nbformat_minor": 2
}
