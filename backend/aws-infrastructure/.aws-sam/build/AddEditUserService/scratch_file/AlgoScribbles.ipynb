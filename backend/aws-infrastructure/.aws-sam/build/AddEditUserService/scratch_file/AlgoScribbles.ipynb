{
 "cells": [
  {
   "cell_type": "code",
   "execution_count": 2,
   "metadata": {},
   "outputs": [
    {
     "data": {
      "text/plain": [
       "<Response [200]>"
      ]
     },
     "execution_count": 2,
     "metadata": {},
     "output_type": "execute_result"
    }
   ],
   "source": [
    "import requests\n",
    "import json"
   ]
  },
  {
   "cell_type": "code",
   "execution_count": null,
   "metadata": {},
   "outputs": [],
   "source": [
    "# Post Request\n",
    "\n",
    "record = {\n",
    "    'username': 'kraken',\n",
    "    'password': 'password',\n",
    "    'fname': 'Kraken',\n",
    "    'lname': 'Krakenson',\n",
    "    'email': 'somedudenamedkraken@fakeemail.com',\n",
    "    'cell_phone': '123-456-7890',\n",
    "    'hours_available': '5',\n",
    "    'postal_address': '12345 Main Street, Columbia, MO 65201'\n",
    "}\n",
    "\n",
    "url = 'https://x50060w167.execute-api.us-east-2.amazonaws.com/prod/add-edit'\n",
    "response = requests.post(url, data=json.dumps(record))\n",
    "response"
   ]
  },
  {
   "cell_type": "code",
   "execution_count": null,
   "metadata": {},
   "outputs": [],
   "source": [
    "# Get Request\n"
   ]
  }
 ],
 "metadata": {
  "kernelspec": {
   "display_name": "Python 3",
   "language": "python",
   "name": "python3"
  },
  "language_info": {
   "codemirror_mode": {
    "name": "ipython",
    "version": 3
   },
   "file_extension": ".py",
   "mimetype": "text/x-python",
   "name": "python",
   "nbconvert_exporter": "python",
   "pygments_lexer": "ipython3",
   "version": "3.8.9"
  },
  "orig_nbformat": 4,
  "vscode": {
   "interpreter": {
    "hash": "31f2aee4e71d21fbe5cf8b01ff0e069b9275f58929596ceb00d14d90e3e16cd6"
   }
  }
 },
 "nbformat": 4,
 "nbformat_minor": 2
}
